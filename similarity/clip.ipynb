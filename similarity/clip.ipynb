{
 "cells": [
  {
   "cell_type": "markdown",
   "metadata": {},
   "source": [
    "#### 필요한 라이브러리 설치"
   ]
  },
  {
   "cell_type": "code",
   "execution_count": 3,
   "metadata": {},
   "outputs": [
    {
     "name": "stdout",
     "output_type": "stream",
     "text": [
      "Requirement already satisfied: torch in c:\\users\\lg\\elice\\.venv\\lib\\site-packages (2.6.0)\n",
      "Requirement already satisfied: torchvision in c:\\users\\lg\\elice\\.venv\\lib\\site-packages (0.21.0)\n",
      "Collecting clip-by-openai\n",
      "  Using cached clip_by_openai-1.1-py3-none-any.whl.metadata (369 bytes)\n",
      "Requirement already satisfied: pillow in c:\\users\\lg\\elice\\.venv\\lib\\site-packages (11.1.0)\n",
      "Collecting clip\n",
      "  Using cached clip-0.2.0.tar.gz (5.5 kB)\n",
      "  Installing build dependencies: started\n",
      "  Installing build dependencies: finished with status 'done'\n",
      "  Getting requirements to build wheel: started\n",
      "  Getting requirements to build wheel: finished with status 'error'\n"
     ]
    },
    {
     "name": "stderr",
     "output_type": "stream",
     "text": [
      "  error: subprocess-exited-with-error\n",
      "  \n",
      "  × Getting requirements to build wheel did not run successfully.\n",
      "  │ exit code: 1\n",
      "  ╰─> [17 lines of output]\n",
      "      Traceback (most recent call last):\n",
      "        File \"c:\\Users\\LG\\elice\\.venv\\lib\\site-packages\\pip\\_vendor\\pyproject_hooks\\_in_process\\_in_process.py\", line 389, in <module>\n",
      "          main()\n",
      "        File \"c:\\Users\\LG\\elice\\.venv\\lib\\site-packages\\pip\\_vendor\\pyproject_hooks\\_in_process\\_in_process.py\", line 373, in main\n",
      "          json_out[\"return_val\"] = hook(**hook_input[\"kwargs\"])\n",
      "        File \"c:\\Users\\LG\\elice\\.venv\\lib\\site-packages\\pip\\_vendor\\pyproject_hooks\\_in_process\\_in_process.py\", line 143, in get_requires_for_build_wheel\n",
      "          return hook(config_settings)\n",
      "        File \"C:\\Users\\LG\\AppData\\Local\\Temp\\pip-build-env-qyf80qjw\\overlay\\Lib\\site-packages\\setuptools\\build_meta.py\", line 334, in get_requires_for_build_wheel\n",
      "          return self._get_build_requires(config_settings, requirements=[])\n",
      "        File \"C:\\Users\\LG\\AppData\\Local\\Temp\\pip-build-env-qyf80qjw\\overlay\\Lib\\site-packages\\setuptools\\build_meta.py\", line 304, in _get_build_requires\n",
      "          self.run_setup()\n",
      "        File \"C:\\Users\\LG\\AppData\\Local\\Temp\\pip-build-env-qyf80qjw\\overlay\\Lib\\site-packages\\setuptools\\build_meta.py\", line 522, in run_setup\n",
      "          super().run_setup(setup_script=setup_script)\n",
      "        File \"C:\\Users\\LG\\AppData\\Local\\Temp\\pip-build-env-qyf80qjw\\overlay\\Lib\\site-packages\\setuptools\\build_meta.py\", line 320, in run_setup\n",
      "          exec(code, locals())\n",
      "        File \"<string>\", line 29, in <module>\n",
      "      UnicodeDecodeError: 'cp949' codec can't decode byte 0xe2 in position 1428: illegal multibyte sequence\n",
      "      [end of output]\n",
      "  \n",
      "  note: This error originates from a subprocess, and is likely not a problem with pip.\n",
      "error: subprocess-exited-with-error\n",
      "\n",
      "× Getting requirements to build wheel did not run successfully.\n",
      "│ exit code: 1\n",
      "╰─> See above for output.\n",
      "\n",
      "note: This error originates from a subprocess, and is likely not a problem with pip.\n"
     ]
    }
   ],
   "source": [
    "! pip install torch torchvision clip-by-openai pillow clip torch\n"
   ]
  },
  {
   "cell_type": "code",
   "execution_count": 5,
   "metadata": {},
   "outputs": [
    {
     "name": "stdout",
     "output_type": "stream",
     "text": [
      "Collecting git+https://github.com/openai/CLIP.git\n",
      "  Cloning https://github.com/openai/CLIP.git to c:\\users\\lg\\appdata\\local\\temp\\pip-req-build-_2kpjxrs\n",
      "  Resolved https://github.com/openai/CLIP.git to commit dcba3cb2e2827b402d2701e7e1c7d9fed8a20ef1\n",
      "  Installing build dependencies: started\n",
      "  Installing build dependencies: finished with status 'done'\n",
      "  Getting requirements to build wheel: started\n",
      "  Getting requirements to build wheel: finished with status 'done'\n",
      "  Preparing metadata (pyproject.toml): started\n",
      "  Preparing metadata (pyproject.toml): finished with status 'done'\n",
      "Requirement already satisfied: pillow in c:\\users\\lg\\elice\\.venv\\lib\\site-packages (11.1.0)\n",
      "Collecting ftfy (from clip==1.0)\n",
      "  Using cached ftfy-6.3.1-py3-none-any.whl.metadata (7.3 kB)\n",
      "Requirement already satisfied: packaging in c:\\users\\lg\\elice\\.venv\\lib\\site-packages (from clip==1.0) (24.2)\n",
      "Requirement already satisfied: regex in c:\\users\\lg\\elice\\.venv\\lib\\site-packages (from clip==1.0) (2024.11.6)\n",
      "Requirement already satisfied: tqdm in c:\\users\\lg\\elice\\.venv\\lib\\site-packages (from clip==1.0) (4.67.1)\n",
      "Requirement already satisfied: torch in c:\\users\\lg\\elice\\.venv\\lib\\site-packages (from clip==1.0) (2.6.0)\n",
      "Requirement already satisfied: torchvision in c:\\users\\lg\\elice\\.venv\\lib\\site-packages (from clip==1.0) (0.21.0)\n",
      "Requirement already satisfied: wcwidth in c:\\users\\lg\\elice\\.venv\\lib\\site-packages (from ftfy->clip==1.0) (0.2.13)\n",
      "Requirement already satisfied: filelock in c:\\users\\lg\\elice\\.venv\\lib\\site-packages (from torch->clip==1.0) (3.17.0)\n",
      "Requirement already satisfied: typing-extensions>=4.10.0 in c:\\users\\lg\\elice\\.venv\\lib\\site-packages (from torch->clip==1.0) (4.12.2)\n",
      "Requirement already satisfied: networkx in c:\\users\\lg\\elice\\.venv\\lib\\site-packages (from torch->clip==1.0) (3.4.2)\n",
      "Requirement already satisfied: jinja2 in c:\\users\\lg\\elice\\.venv\\lib\\site-packages (from torch->clip==1.0) (3.1.5)\n",
      "Requirement already satisfied: fsspec in c:\\users\\lg\\elice\\.venv\\lib\\site-packages (from torch->clip==1.0) (2025.2.0)\n",
      "Requirement already satisfied: sympy==1.13.1 in c:\\users\\lg\\elice\\.venv\\lib\\site-packages (from torch->clip==1.0) (1.13.1)\n",
      "Requirement already satisfied: mpmath<1.4,>=1.1.0 in c:\\users\\lg\\elice\\.venv\\lib\\site-packages (from sympy==1.13.1->torch->clip==1.0) (1.3.0)\n",
      "Requirement already satisfied: numpy in c:\\users\\lg\\elice\\.venv\\lib\\site-packages (from torchvision->clip==1.0) (2.2.3)\n",
      "Requirement already satisfied: colorama in c:\\users\\lg\\elice\\.venv\\lib\\site-packages (from tqdm->clip==1.0) (0.4.6)\n",
      "Requirement already satisfied: MarkupSafe>=2.0 in c:\\users\\lg\\elice\\.venv\\lib\\site-packages (from jinja2->torch->clip==1.0) (3.0.2)\n",
      "Downloading ftfy-6.3.1-py3-none-any.whl (44 kB)\n",
      "Building wheels for collected packages: clip\n",
      "  Building wheel for clip (pyproject.toml): started\n",
      "  Building wheel for clip (pyproject.toml): finished with status 'done'\n",
      "  Created wheel for clip: filename=clip-1.0-py3-none-any.whl size=1369594 sha256=bb7232f3ff11923789e32e29c39176dbba0a0582d749b792bb114e3c774d5ef5\n",
      "  Stored in directory: C:\\Users\\LG\\AppData\\Local\\Temp\\pip-ephem-wheel-cache-mgnz_web\\wheels\\da\\2b\\4c\\d6691fa9597aac8bb85d2ac13b112deb897d5b50f5ad9a37e4\n",
      "Successfully built clip\n",
      "Installing collected packages: ftfy, clip\n",
      "Successfully installed clip-1.0 ftfy-6.3.1\n"
     ]
    },
    {
     "name": "stderr",
     "output_type": "stream",
     "text": [
      "  Running command git clone --filter=blob:none --quiet https://github.com/openai/CLIP.git 'C:\\Users\\LG\\AppData\\Local\\Temp\\pip-req-build-_2kpjxrs'\n"
     ]
    }
   ],
   "source": [
    "! pip install git+https://github.com/openai/CLIP.git pillow"
   ]
  },
  {
   "cell_type": "code",
   "execution_count": 6,
   "metadata": {},
   "outputs": [
    {
     "name": "stdout",
     "output_type": "stream",
     "text": [
      "Requirement already satisfied: clip in c:\\users\\lg\\elice\\.venv\\lib\\site-packages (1.0)\n",
      "Requirement already satisfied: ftfy in c:\\users\\lg\\elice\\.venv\\lib\\site-packages (from clip) (6.3.1)\n",
      "Requirement already satisfied: packaging in c:\\users\\lg\\elice\\.venv\\lib\\site-packages (from clip) (24.2)\n",
      "Requirement already satisfied: regex in c:\\users\\lg\\elice\\.venv\\lib\\site-packages (from clip) (2024.11.6)\n",
      "Requirement already satisfied: tqdm in c:\\users\\lg\\elice\\.venv\\lib\\site-packages (from clip) (4.67.1)\n",
      "Requirement already satisfied: torch in c:\\users\\lg\\elice\\.venv\\lib\\site-packages (from clip) (2.6.0)\n",
      "Requirement already satisfied: torchvision in c:\\users\\lg\\elice\\.venv\\lib\\site-packages (from clip) (0.21.0)\n",
      "Requirement already satisfied: wcwidth in c:\\users\\lg\\elice\\.venv\\lib\\site-packages (from ftfy->clip) (0.2.13)\n",
      "Requirement already satisfied: filelock in c:\\users\\lg\\elice\\.venv\\lib\\site-packages (from torch->clip) (3.17.0)\n",
      "Requirement already satisfied: typing-extensions>=4.10.0 in c:\\users\\lg\\elice\\.venv\\lib\\site-packages (from torch->clip) (4.12.2)\n",
      "Requirement already satisfied: networkx in c:\\users\\lg\\elice\\.venv\\lib\\site-packages (from torch->clip) (3.4.2)\n",
      "Requirement already satisfied: jinja2 in c:\\users\\lg\\elice\\.venv\\lib\\site-packages (from torch->clip) (3.1.5)\n",
      "Requirement already satisfied: fsspec in c:\\users\\lg\\elice\\.venv\\lib\\site-packages (from torch->clip) (2025.2.0)\n",
      "Requirement already satisfied: sympy==1.13.1 in c:\\users\\lg\\elice\\.venv\\lib\\site-packages (from torch->clip) (1.13.1)\n",
      "Requirement already satisfied: mpmath<1.4,>=1.1.0 in c:\\users\\lg\\elice\\.venv\\lib\\site-packages (from sympy==1.13.1->torch->clip) (1.3.0)\n",
      "Requirement already satisfied: numpy in c:\\users\\lg\\elice\\.venv\\lib\\site-packages (from torchvision->clip) (2.2.3)\n",
      "Requirement already satisfied: pillow!=8.3.*,>=5.3.0 in c:\\users\\lg\\elice\\.venv\\lib\\site-packages (from torchvision->clip) (11.1.0)\n",
      "Requirement already satisfied: colorama in c:\\users\\lg\\elice\\.venv\\lib\\site-packages (from tqdm->clip) (0.4.6)\n",
      "Requirement already satisfied: MarkupSafe>=2.0 in c:\\users\\lg\\elice\\.venv\\lib\\site-packages (from jinja2->torch->clip) (3.0.2)\n"
     ]
    }
   ],
   "source": [
    "! pip install clip"
   ]
  },
  {
   "cell_type": "code",
   "execution_count": 7,
   "metadata": {},
   "outputs": [
    {
     "name": "stderr",
     "output_type": "stream",
     "text": [
      "100%|███████████████████████████████████████| 338M/338M [00:41<00:00, 8.52MiB/s]\n"
     ]
    }
   ],
   "source": [
    "import clip\n",
    "import torch\n",
    "\n",
    "device = \"cuda\" if torch.cuda.is_available() else \"cpu\"\n",
    "clip_model, clip_preprocess = clip.load(\"ViT-B/32\", device=device)\n",
    "\n",
    "def preprocess_for_clip(img_path):\n",
    "    img = Image.open(img_path).convert(\"RGB\")\n",
    "    img = img.resize((224, 224))\n",
    "\n",
    "    # 선명도 보정\n",
    "    enhancer = ImageEnhance.Sharpness(img)\n",
    "    img = enhancer.enhance(1.5)\n",
    "\n",
    "    img_tensor = clip_preprocess(img).unsqueeze(0).to(device)\n",
    "    return img_tensor\n"
   ]
  },
  {
   "cell_type": "code",
   "execution_count": 8,
   "metadata": {},
   "outputs": [
    {
     "name": "stdout",
     "output_type": "stream",
     "text": [
      "{'GAN Image': './ex_data/gan_1.png', 'Recommended Image': './ex_data/image_115.jpeg', 'Cosine Similarity': np.float32(0.7139076), 'Euclidean Distance': np.float32(8.113594), 'Manhattan Distance': np.float64(141.38753573875874)}\n",
      "{'GAN Image': './ex_data/gan_1.png', 'Recommended Image': './ex_data/image_1.jpeg', 'Cosine Similarity': np.float32(0.6104609), 'Euclidean Distance': np.float32(9.562316), 'Manhattan Distance': np.float64(163.92572440672666)}\n",
      "{'GAN Image': './ex_data/gan_2.png', 'Recommended Image': './ex_data/image_115.jpeg', 'Cosine Similarity': np.float32(0.6912339), 'Euclidean Distance': np.float32(8.680971), 'Manhattan Distance': np.float64(151.0080331992358)}\n",
      "{'GAN Image': './ex_data/gan_2.png', 'Recommended Image': './ex_data/image_1.jpeg', 'Cosine Similarity': np.float32(0.80441827), 'Euclidean Distance': np.float32(6.9711566), 'Manhattan Distance': np.float64(125.99726561829448)}\n"
     ]
    }
   ],
   "source": [
    "import clip\n",
    "import torch\n",
    "import numpy as np\n",
    "from PIL import Image, ImageEnhance\n",
    "from sklearn.metrics.pairwise import cosine_similarity, euclidean_distances, manhattan_distances\n",
    "\n",
    "# CLIP 모델 로드\n",
    "device = \"cuda\" if torch.cuda.is_available() else \"cpu\"\n",
    "clip_model, clip_preprocess = clip.load(\"ViT-B/32\", device=device)\n",
    "\n",
    "# 이미지 전처리 함수\n",
    "def preprocess_for_clip(img_path):\n",
    "    img = Image.open(img_path).convert(\"RGB\")\n",
    "    img = img.resize((224, 224))\n",
    "\n",
    "    # 선명도 증가\n",
    "    enhancer = ImageEnhance.Sharpness(img)\n",
    "    img = enhancer.enhance(1.5)\n",
    "\n",
    "    return clip_preprocess(img).unsqueeze(0).to(device)\n",
    "\n",
    "# 특징 벡터 추출 (한 번만 계산하여 캐싱)\n",
    "def extract_clip_features(img_path):\n",
    "    img_tensor = preprocess_for_clip(img_path)\n",
    "    with torch.no_grad():\n",
    "        features = clip_model.encode_image(img_tensor).cpu().numpy()\n",
    "    return features.flatten()\n",
    "\n",
    "# 유사도 계산 함수\n",
    "def compute_clip_similarity(features1, features2):\n",
    "    cos_sim = cosine_similarity([features1], [features2])[0][0]\n",
    "    euclidean_dist = euclidean_distances([features1], [features2])[0][0]\n",
    "    manhattan_dist = manhattan_distances([features1], [features2])[0][0]\n",
    "    return cos_sim, euclidean_dist, manhattan_dist\n",
    "\n",
    "# GAN 생성 이미지 & 추천 이미지 유사도 측정\n",
    "def evaluate_similarities(gan_images, recommendation_images):\n",
    "    # 특징 벡터 캐싱 (각 이미지당 1회만 계산)\n",
    "    gan_features = {img: extract_clip_features(img) for img in gan_images}\n",
    "    rec_features = {img: extract_clip_features(img) for img in recommendation_images}\n",
    "\n",
    "    similarity_results = []\n",
    "\n",
    "    # 반복문을 이용한 모든 조합 비교\n",
    "    for gan_img, gan_vec in gan_features.items():\n",
    "        for rec_img, rec_vec in rec_features.items():\n",
    "            cos_sim, euclidean_dist, manhattan_dist = compute_clip_similarity(gan_vec, rec_vec)\n",
    "            similarity_results.append({\n",
    "                \"GAN Image\": gan_img,\n",
    "                \"Recommended Image\": rec_img,\n",
    "                \"Cosine Similarity\": cos_sim,\n",
    "                \"Euclidean Distance\": euclidean_dist,\n",
    "                \"Manhattan Distance\": manhattan_dist\n",
    "            })\n",
    "\n",
    "    return similarity_results\n",
    "\n",
    "# 실행 예시\n",
    "gan_img_paths = [\"./ex_data/gan_1.png\", \"./ex_data/gan_2.png\"]\n",
    "re_img_paths = [\"./ex_data/image_115.jpeg\", \"./ex_data/image_1.jpeg\"]\n",
    "\n",
    "results = evaluate_similarities(gan_img_paths, re_img_paths)\n",
    "\n",
    "# 결과 출력\n",
    "for res in results:\n",
    "    print(res)\n"
   ]
  },
  {
   "cell_type": "code",
   "execution_count": 10,
   "metadata": {},
   "outputs": [
    {
     "data": {
      "image/png": "[encoded data removed]",
      "text/plain": [
       "<Figure size 1800x500 with 6 Axes>"
      ]
     },
     "metadata": {},
     "output_type": "display_data"
    }
   ],
   "source": [
    "import clip\n",
    "import torch\n",
    "import numpy as np\n",
    "import matplotlib.pyplot as plt\n",
    "import seaborn as sns\n",
    "from PIL import Image, ImageEnhance\n",
    "from sklearn.metrics.pairwise import cosine_similarity, euclidean_distances, manhattan_distances\n",
    "from itertools import product  # 모든 쌍을 자동으로 생성\n",
    "\n",
    "# CLIP 모델 로드\n",
    "device = \"cuda\" if torch.cuda.is_available() else \"cpu\"\n",
    "clip_model, clip_preprocess = clip.load(\"ViT-B/32\", device=device)\n",
    "\n",
    "# CLIP 전처리 (선명도 보정)\n",
    "def preprocess_for_clip(img_path):\n",
    "    img = Image.open(img_path).convert(\"RGB\").resize((224, 224))\n",
    "\n",
    "    # 선명도 증가\n",
    "    enhancer = ImageEnhance.Sharpness(img)\n",
    "    img = enhancer.enhance(1.5)\n",
    "\n",
    "    return clip_preprocess(img).unsqueeze(0).to(device)\n",
    "\n",
    "# CLIP 특징 벡터 추출\n",
    "def extract_clip_features(img_path):\n",
    "    img_tensor = preprocess_for_clip(img_path)\n",
    "    with torch.no_grad():\n",
    "        features = clip_model.encode_image(img_tensor).cpu().numpy()\n",
    "    return features.flatten()\n",
    "\n",
    "# 유사도 계산\n",
    "def compute_similarity(vec1, vec2):\n",
    "    return {\n",
    "        \"cosine_similarity\": cosine_similarity([vec1], [vec2])[0][0],\n",
    "        \"euclidean_distance\": euclidean_distances([vec1], [vec2])[0][0],\n",
    "        \"manhattan_distance\": manhattan_distances([vec1], [vec2])[0][0]\n",
    "    }\n",
    "\n",
    "# CLIP 유사도 계산\n",
    "def compute_clip_similarity(gan_img_paths, re_img_paths):\n",
    "    feature_cache = {}  # 특징 벡터 저장 (중복 계산 방지)\n",
    "\n",
    "    # 모든 이미지의 특징 벡터 추출 및 저장\n",
    "    for img_path in gan_img_paths + re_img_paths:\n",
    "        feature_cache[img_path] = extract_clip_features(img_path)\n",
    "\n",
    "    # 모든 조합 비교 (GAN 이미지 ↔ 추천 이미지)\n",
    "    similarity_results = {}\n",
    "    for gan_img, re_img in product(gan_img_paths, re_img_paths):\n",
    "        similarity_results[f\"{gan_img} ↔ {re_img}\"] = compute_similarity(feature_cache[gan_img], feature_cache[re_img])\n",
    "\n",
    "    return similarity_results\n",
    "\n",
    "# 유사도 시각화 (CLIP)\n",
    "def plot_clip_similarity_heatmaps(similarity_results, gan_img_paths, re_img_paths):\n",
    "    # 행렬을 만들기 위해 리스트 변환\n",
    "    cosine_matrix = []\n",
    "    euclidean_matrix = []\n",
    "    manhattan_matrix = []\n",
    "\n",
    "    for gan_img in gan_img_paths:\n",
    "        cosine_row = []\n",
    "        euclidean_row = []\n",
    "        manhattan_row = []\n",
    "\n",
    "        for re_img in re_img_paths:\n",
    "            key = f\"{gan_img} ↔ {re_img}\"\n",
    "            cosine_row.append(similarity_results[key][\"cosine_similarity\"])\n",
    "            euclidean_row.append(similarity_results[key][\"euclidean_distance\"])\n",
    "            manhattan_row.append(similarity_results[key][\"manhattan_distance\"])\n",
    "\n",
    "        cosine_matrix.append(cosine_row)\n",
    "        euclidean_matrix.append(euclidean_row)\n",
    "        manhattan_matrix.append(manhattan_row)\n",
    "\n",
    "    labels_x = [f\"Rec-{i+1}\" for i in range(len(re_img_paths))]\n",
    "    labels_y = [f\"GAN-{i+1}\" for i in range(len(gan_img_paths))]\n",
    "\n",
    "    # 히트맵 그리기\n",
    "    fig, axes = plt.subplots(1, 3, figsize=(18, 5))\n",
    "\n",
    "    sns.heatmap(cosine_matrix, annot=True, fmt=\".4f\", cmap=\"coolwarm\", xticklabels=labels_x, yticklabels=labels_y, ax=axes[0])\n",
    "    axes[0].set_title(\"CLIP - Cosine Similarity\")\n",
    "\n",
    "    sns.heatmap(euclidean_matrix, annot=True, fmt=\".4f\", cmap=\"viridis\", xticklabels=labels_x, yticklabels=labels_y, ax=axes[1])\n",
    "    axes[1].set_title(\"CLIP - Euclidean Distance\")\n",
    "\n",
    "    sns.heatmap(manhattan_matrix, annot=True, fmt=\".4f\", cmap=\"plasma\", xticklabels=labels_x, yticklabels=labels_y, ax=axes[2])\n",
    "    axes[2].set_title(\"CLIP - Manhattan Distance\")\n",
    "\n",
    "    plt.show()\n",
    "\n",
    "# 실행 예시\n",
    "gan_img_paths = [\"./ex_data/gan_1.png\", \"./ex_data/gan_2.png\"]\n",
    "re_img_paths = [\"./ex_data/image_115.jpeg\", \"./ex_data/image_1.jpeg\"]\n",
    "\n",
    "# CLIP 유사도 계산 및 시각화\n",
    "clip_similarity_results = compute_clip_similarity(gan_img_paths, re_img_paths)\n",
    "plot_clip_similarity_heatmaps(clip_similarity_results, gan_img_paths, re_img_paths)\n"
   ]
  },
  {
   "cell_type": "code",
   "execution_count": null,
   "metadata": {},
   "outputs": [],
   "source": []
  }
 ],
 "metadata": {
  "kernelspec": {
   "display_name": ".venv",
   "language": "python",
   "name": "python3"
  },
  "language_info": {
   "codemirror_mode": {
    "name": "ipython",
    "version": 3
   },
   "file_extension": ".py",
   "mimetype": "text/x-python",
   "name": "python",
   "nbconvert_exporter": "python",
   "pygments_lexer": "ipython3",
   "version": "3.10.0"
  }
 },
 "nbformat": 4,
 "nbformat_minor": 2
}
